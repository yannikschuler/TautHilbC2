{
 "cells": [
  {
   "cell_type": "markdown",
   "id": "c0aa47bd",
   "metadata": {},
   "source": [
    "# Tautological Integrals on \\$\\mathrm{Hilb}_n(\\mathbb{C}^2)\\$"
   ]
  },
  {
   "cell_type": "markdown",
   "id": "e9908b74",
   "metadata": {},
   "source": [
    "This script can be used to compute \\$T=(\\mathbb{C}^*)^2\\$-equivariant tautological integrals on \\$\\mathrm{Hilb}_n(\\mathbb{C}^2)\\$. More precisely, let us denote by $\\mathcal{O}(\\mathrm{wt})$ the trivial line bundle on $\\mathbb{C}^2$ twisted by a $T$-representation $\\mathrm{wt}$ and by $\\mathcal{O}(\\mathrm{wt})^{[n]}$ the associated vector bundle on the hilbert scheme. Our code allows to compute the integrals\n",
    "$$\\int_{[\\mathrm{Hilb}_n(\\mathbb{C}^2)]_T} \\prod_{i}\\mathrm{ch}_{k_i}\\big(\\mathcal{O}(\\mathrm{wt}_i)^{[n]}\\big)\\,.$$"
   ]
  },
  {
   "cell_type": "markdown",
   "id": "b3489add",
   "metadata": {},
   "source": [
    "## Initialisation"
   ]
  },
  {
   "cell_type": "markdown",
   "id": "0d390228",
   "metadata": {},
   "source": [
    "Below we initialise\n",
    "$$R:=\\mathrm{Frak}(H^*_{(\\mathbb{C}^*)^2}(\\mathrm{pt}))=\\mathbb{Q}(t_1,t_2)\\qquad\\text{and}\\qquad S:=\\mathrm{Frak}(H^*_{\\mathbb{C}^*}(\\mathrm{pt}))=\\mathbb{Q}(t)\\,.$$\n",
    "We denote the (anti-)diagonal restriction\n",
    "$$R\\rightarrow S,t_1\\mapsto t, t_2\\mapsto \\pm t$$\n",
    "by <code>(anti_)diag_restriction</code>."
   ]
  },
  {
   "cell_type": "code",
   "execution_count": 1,
   "id": "c7a86acf",
   "metadata": {},
   "outputs": [],
   "source": [
    "R = QQ['t1,t2'].fraction_field()\n",
    "t1,t2 = R.gens()\n",
    "\n",
    "S = QQ['t'].fraction_field()\n",
    "t, = S.gens()\n",
    "\n",
    "diag_restriction = Hom(R, S)([t,t])\n",
    "anti_diag_restriction = Hom(R, S)([t,-t])\n",
    "\n",
    "Ru.<u> = PowerSeriesRing(R)"
   ]
  },
  {
   "cell_type": "markdown",
   "id": "d2a0515f",
   "metadata": {},
   "source": [
    "Below we initialise the following functions.\n",
    "<ul>\n",
    "<li><code>Tan(lam: Partition):</code> This function takes as argument a partition \\(\\lambda\\) and returns the \\(T\\)-representation <br>$$T_{I_{\\lambda}}\\mathrm{Hilb}(\\mathbb{C}^2).$$ where \\(I_\\lambda\\) is the \\(T\\)-fixed ideal associated with the partition \\(\\lambda\\).</li><br> \n",
    "<li><code>eTan(lam: Partition):</code> This function takes as argument a partition \\(\\lambda\\) and returns the \\(T\\)-equivariant Euler class <br>$$e_T\\big(T_{I_{\\lambda}}\\mathrm{Hilb}(\\mathbb{C}^2)\\big).$$<br></li>\n",
    "<li><code>Ocal(wt: R, lam: Partition):</code> This function takes as arguments a \\(T\\)-representation \\(\\mathrm{wt}\\) and a partition \\(\\lambda\\). It returns the \\(T\\)-representation <br>$$\\mathcal{O}(\\mathrm{wt})^{[n]}|_{I_{\\lambda}}.$$<br></li>\n",
    "<li><code>chOcal(k: int, wt: R, lam: Partition):</code> This function takes an integer \\(k\\), a \\(T\\)-representation \\(\\mathrm{wt}\\) and a partition \\(\\lambda\\) and returns the Chern character$$\\mathrm{ch}_k\\big(\\mathcal{O}(\\mathrm{wt})^{[n]}|_{I_{\\lambda}}\\big).$$</li>\n",
    "</ul>"
   ]
  },
  {
   "cell_type": "code",
   "execution_count": 2,
   "id": "de4712a7",
   "metadata": {},
   "outputs": [],
   "source": [
    "def Tan(lam: Partition):\n",
    "    return sum(t1^(-lam.leg_length(*box)) * t2^(lam.arm_length(*box) + 1) + t1^(lam.leg_length(*box) + 1) * t2^(-lam.arm_length(*box)) for box in lam.cells())\n",
    "    \n",
    "def eTan(lam: Partition):\n",
    "    return prod(  ( -lam.leg_length(*box) * t1 + (lam.arm_length(*box) + 1) * t2)\n",
    "                * ( (lam.leg_length(*box) + 1) * t1 - lam.arm_length(*box) * t2 ) for box in lam.cells())\n",
    "    \n",
    "def Ocal(wt: R, lam: Partition):\n",
    "    return wt * sum( t1^(-box[0]) * t2^(-box[1]) for box in lam.cells() )\n",
    "\n",
    "def chOcal(k: int, wt: R, lam: Partition):\n",
    "    if k<0:\n",
    "        return 0\n",
    "    else:\n",
    "        ch = Hom(R, Ru)([(u*t1).exp(k+1), (u*t2).exp(k+1)])\n",
    "        return ch(Ocal(wt, lam)).coefficients()[-1]"
   ]
  },
  {
   "cell_type": "markdown",
   "id": "06a497bf",
   "metadata": {},
   "source": [
    "## Examples"
   ]
  },
  {
   "cell_type": "markdown",
   "id": "81ac6b11",
   "metadata": {},
   "source": [
    "The intersection number\n",
    "$$ \\int_{[\\mathrm{Hilb}_5(\\mathbb{C}^2)]_T} \\mathrm{ch}_4\\big(\\mathcal{O}(t_1 t_2^2)^{[5]}\\big) = \\sum_{\\lambda \\vdash 5} \\frac{\\mathrm{ch}_4\\big(\\mathcal{O}(t_1 t_2^2)^{[5]}|_{I_{\\lambda}}\\big)}{e_T\\big(T_{I_{\\lambda}}\\mathrm{Hilb}(\\mathbb{C}^2)\\big)}$$\n",
    "can be computed as follows"
   ]
  },
  {
   "cell_type": "code",
   "execution_count": 3,
   "id": "507ab60e",
   "metadata": {},
   "outputs": [
    {
     "data": {
      "text/html": [
       "<html><script type=\"math/tex; mode=display\">\\newcommand{\\Bold}[1]{\\mathbf{#1}}\\frac{-57600 t_{1}^{4} - 115200 t_{1}^{3} t_{2} - 345600 t_{1}^{2} t_{2}^{2} + 115200 t_{1} t_{2}^{3} - 921600 t_{2}^{4}}{-33177600 t_{1}^{5} t_{2}^{5}}</script></html>"
      ],
      "text/latex": [
       "$$\\newcommand{\\Bold}[1]{\\mathbf{#1}}\\frac{-57600 t_{1}^{4} - 115200 t_{1}^{3} t_{2} - 345600 t_{1}^{2} t_{2}^{2} + 115200 t_{1} t_{2}^{3} - 921600 t_{2}^{4}}{-33177600 t_{1}^{5} t_{2}^{5}}$$"
      ],
      "text/plain": [
       "(-57600*t1^4 - 115200*t1^3*t2 - 345600*t1^2*t2^2 + 115200*t1*t2^3 - 921600*t2^4)/(-33177600*t1^5*t2^5)"
      ]
     },
     "metadata": {},
     "output_type": "display_data"
    }
   ],
   "source": [
    "pretty_print( sum( chOcal(4, t1 * t2^2, lam) / eTan(lam) for lam in Partitions(5) ) )"
   ]
  },
  {
   "cell_type": "markdown",
   "id": "ea7572d4",
   "metadata": {},
   "source": [
    "The anti-diagonal restriction\n",
    "$$\\int_{[\\mathrm{Hilb}_5(\\mathbb{C}^2)]_{\\mathbb{C}^*}} \\mathrm{ch}_4\\big(\\mathcal{O}(t^{-1})^{[5]}\\big)$$\n",
    "can be recovered using the function <code>anti_diag_restriction</code>:"
   ]
  },
  {
   "cell_type": "code",
   "execution_count": 4,
   "id": "c34ec0a6",
   "metadata": {},
   "outputs": [
    {
     "data": {
      "text/html": [
       "<html><script type=\"math/tex; mode=display\">\\newcommand{\\Bold}[1]{\\mathbf{#1}}\\frac{-\\frac{23}{576}}{t^{6}}</script></html>"
      ],
      "text/latex": [
       "$$\\newcommand{\\Bold}[1]{\\mathbf{#1}}\\frac{-\\frac{23}{576}}{t^{6}}$$"
      ],
      "text/plain": [
       "-23/576/t^6"
      ]
     },
     "metadata": {},
     "output_type": "display_data"
    }
   ],
   "source": [
    "pretty_print( anti_diag_restriction(sum( chOcal(4, t1 * t2^2, lam) / eTan(lam) for lam in Partitions(5) )) )"
   ]
  },
  {
   "cell_type": "markdown",
   "id": "8c96fe77",
   "metadata": {},
   "source": [
    "Any other combination of Chern characters is evaluated similarly. For instance\n",
    "$$ \\int_{[\\mathrm{Hilb}_5(\\mathbb{C}^2)]_T} \\mathrm{ch}_1\\big(\\mathcal{O}(1)^{[5]}\\big) \\, \\mathrm{ch}_2\\big(\\mathcal{O}(t_1)^{[5]}\\big)\\, \\mathrm{ch}_3\\big(\\mathcal{O}(t_1 t_2^3)^{[5]}\\big)$$\n",
    "is evaluated as"
   ]
  },
  {
   "cell_type": "code",
   "execution_count": 5,
   "id": "7b1c910b",
   "metadata": {},
   "outputs": [
    {
     "data": {
      "text/html": [
       "<html><script type=\"math/tex; mode=display\">\\newcommand{\\Bold}[1]{\\mathbf{#1}}\\frac{\\frac{15}{2} t_{1}^{4} + \\frac{69}{2} t_{1}^{3} t_{2} + 75 t_{1}^{2} t_{2}^{2} - 63 t_{1} t_{2}^{3} - 93 t_{2}^{4}}{-36 t_{1}^{2} t_{2}^{2}}</script></html>"
      ],
      "text/latex": [
       "$$\\newcommand{\\Bold}[1]{\\mathbf{#1}}\\frac{\\frac{15}{2} t_{1}^{4} + \\frac{69}{2} t_{1}^{3} t_{2} + 75 t_{1}^{2} t_{2}^{2} - 63 t_{1} t_{2}^{3} - 93 t_{2}^{4}}{-36 t_{1}^{2} t_{2}^{2}}$$"
      ],
      "text/plain": [
       "(15/2*t1^4 + 69/2*t1^3*t2 + 75*t1^2*t2^2 - 63*t1*t2^3 - 93*t2^4)/(-36*t1^2*t2^2)"
      ]
     },
     "metadata": {},
     "output_type": "display_data"
    }
   ],
   "source": [
    "pretty_print( sum( chOcal(1, 1, lam) *  chOcal(2, t1, lam) * chOcal(3, t1*t2^3, lam) / eTan(lam) for lam in Partitions(3) ) )"
   ]
  }
 ],
 "metadata": {
  "kernelspec": {
   "display_name": "SageMath 9.5",
   "language": "sage",
   "name": "sagemath"
  },
  "language_info": {
   "codemirror_mode": {
    "name": "ipython",
    "version": 3
   },
   "file_extension": ".py",
   "mimetype": "text/x-python",
   "name": "python",
   "nbconvert_exporter": "python",
   "pygments_lexer": "ipython3",
   "version": "3.10.12"
  }
 },
 "nbformat": 4,
 "nbformat_minor": 5
}
